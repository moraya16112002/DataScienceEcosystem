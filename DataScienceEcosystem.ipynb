{
  "nbformat": 4,
  "nbformat_minor": 0,
  "metadata": {
    "colab": {
      "provenance": []
    },
    "kernelspec": {
      "name": "python3",
      "display_name": "Python 3"
    },
    "language_info": {
      "name": "python"
    }
  },
  "cells": [
    {
      "cell_type": "markdown",
      "source": [
        "# Data Science Tools and Ecosystem"
      ],
      "metadata": {
        "id": "LAWZbWsnBS6o"
      }
    },
    {
      "cell_type": "markdown",
      "source": [
        "In this notebook, Data Science Tools and Ecosystem are summarized"
      ],
      "metadata": {
        "id": "iGUKEDXLB0jX"
      }
    },
    {
      "cell_type": "markdown",
      "source": [
        "Some of the popular languages that Data Scientists use are:\n",
        "1. Python\n",
        "2. R\n",
        "3. C++"
      ],
      "metadata": {
        "id": "O66BBzzCCCXr"
      }
    },
    {
      "cell_type": "markdown",
      "source": [
        "Some of the commonly used libraries used by Data Scientists include:\n",
        "1. Tensorflow\n",
        "2. Pandas\n",
        "3. Matplotlib\n",
        "4. Seaborn"
      ],
      "metadata": {
        "id": "A2NuEbzJCZBu"
      }
    },
    {
      "cell_type": "markdown",
      "source": [
        "| **Data Science Tools** |\n",
        "|--------------------|\n",
        "|IBM Watson Studio   |\n",
        "|Google Colab        |\n",
        "|Microsoft Azure     |"
      ],
      "metadata": {
        "id": "GyLA1ZXcDA7t"
      }
    },
    {
      "cell_type": "code",
      "source": [
        "#This a simple arithmetic expression to mutiply then add integers.\n",
        "(3*4)+5"
      ],
      "metadata": {
        "colab": {
          "base_uri": "https://localhost:8080/"
        },
        "id": "NmA37KGIBpye",
        "outputId": "4a208424-27c0-4f5f-a81c-e4e493f3ac9b"
      },
      "execution_count": 1,
      "outputs": [
        {
          "output_type": "execute_result",
          "data": {
            "text/plain": [
              "17"
            ]
          },
          "metadata": {},
          "execution_count": 1
        }
      ]
    },
    {
      "cell_type": "code",
      "source": [
        "#This will convert 200 minutes to hours by diving by 60.\n",
        "200/60"
      ],
      "metadata": {
        "colab": {
          "base_uri": "https://localhost:8080/"
        },
        "id": "NqpNWz2pD4lO",
        "outputId": "16bde0bd-fbc3-4b75-ce5a-06f8d75fb776"
      },
      "execution_count": 2,
      "outputs": [
        {
          "output_type": "execute_result",
          "data": {
            "text/plain": [
              "3.3333333333333335"
            ]
          },
          "metadata": {},
          "execution_count": 2
        }
      ]
    },
    {
      "cell_type": "markdown",
      "source": [
        "**Objectives:**\n",
        "* learning about markdown\n",
        "* Getting aquainted with Jupyter Notebook\n",
        "* Getting aquainted with Github\n",
        "* Making repository and sharing code\n",
        "* List popular languages for Data Science\n"
      ],
      "metadata": {
        "id": "zxqoXnVlESm8"
      }
    },
    {
      "cell_type": "markdown",
      "source": [
        "## Author\n",
        "Moraya Prabhu"
      ],
      "metadata": {
        "id": "KiNFrkYFGa3d"
      }
    },
    {
      "cell_type": "code",
      "source": [],
      "metadata": {
        "id": "cllX7LVSEKHA"
      },
      "execution_count": null,
      "outputs": []
    }
  ]
}